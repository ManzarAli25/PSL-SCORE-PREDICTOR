{
 "cells": [
  {
   "cell_type": "code",
   "execution_count": 1,
   "id": "7e714673-f17a-4b2a-8ec7-c794cc2c8c83",
   "metadata": {},
   "outputs": [],
   "source": [
    "import numpy as np\n",
    "import pandas as pd\n",
    "from yaml import safe_load\n",
    "import os\n",
    "from tqdm import tqdm\n",
    "import pickle\n",
    "matches = pickle.load(open('dataset_level1.pkl','rb'))\n"
   ]
  },
  {
   "cell_type": "markdown",
   "id": "dd9729d7-98d1-441e-8077-88a558a79361",
   "metadata": {},
   "source": [
    "matches['innings'][0]\n",
    "this column is actually the list of two dictionaries, '1st innings' and '2nd innings'. each of the dictionary has value of another dictionary asscociated with it as i have shown below: {'1st innings': {'team': 'Peshawar Zalmi',\n",
    "   'deliveries': [{0.1: {'batsman': 'Mohammad Hafeez',\n",
    "      'bowler': 'Mohammad Irfan',\n",
    "      'non_striker': 'DJ Malan',\n",
    "      'runs': {'batsman': 0, 'extras': 0, 'total': 0},\n",
    "      'wicket': {'fielders': ['Sharjeel Khan'],\n",
    "       'kind': 'caught',\n",
    "       'player_out': 'Mohammad Hafeez'}}},\n",
    "    {0.2: {'batsman': 'Kamran Akmal',\n",
    "      'bowler': 'Mohammad Irfan',\n",
    "      'non_striker': 'DJ Malan',\n",
    "      'runs': {'batsman': 1, 'extras': 0, 'total': 1}}},\n",
    "    {0.3: {'batsman': 'DJ Malan',\n",
    "      'bowler': 'Mohammad Irfan',\n",
    "      'non_striker': 'Kamran Akmal',\n",
    "      'runs': {'batsman': 0, 'extras': 0, 'total': 0}}}, "
   ]
  },
  {
   "cell_type": "code",
   "execution_count": 46,
   "id": "d466dd86-d55e-4677-978c-bb0dbcb8b654",
   "metadata": {},
   "outputs": [
    {
     "ename": "TypeError",
     "evalue": "string indices must be integers",
     "output_type": "error",
     "traceback": [
      "\u001b[1;31m---------------------------------------------------------------------------\u001b[0m",
      "\u001b[1;31mTypeError\u001b[0m                                 Traceback (most recent call last)",
      "Cell \u001b[1;32mIn[46], line 2\u001b[0m\n\u001b[0;32m      1\u001b[0m \u001b[38;5;28;01mfor\u001b[39;00m match \u001b[38;5;129;01min\u001b[39;00m matches:\n\u001b[1;32m----> 2\u001b[0m     \u001b[38;5;28;01mfor\u001b[39;00m inning \u001b[38;5;129;01min\u001b[39;00m \u001b[43mmatch\u001b[49m\u001b[43m[\u001b[49m\u001b[38;5;124;43m'\u001b[39;49m\u001b[38;5;124;43minnings\u001b[39;49m\u001b[38;5;124;43m'\u001b[39;49m\u001b[43m]\u001b[49m:\n\u001b[0;32m      3\u001b[0m         \u001b[38;5;28mprint\u001b[39m(inning)\n",
      "\u001b[1;31mTypeError\u001b[0m: string indices must be integers"
     ]
    }
   ],
   "source": [
    "for match in matches:\n",
    "    for inning in match['innings']:\n",
    "        print(inning)\n",
    "    "
   ]
  },
  {
   "cell_type": "code",
   "execution_count": 43,
   "id": "b54be51c-deb3-41e4-a823-c40f09d402c3",
   "metadata": {},
   "outputs": [
    {
     "ename": "TypeError",
     "evalue": "string indices must be integers",
     "output_type": "error",
     "traceback": [
      "\u001b[1;31m---------------------------------------------------------------------------\u001b[0m",
      "\u001b[1;31mTypeError\u001b[0m                                 Traceback (most recent call last)",
      "Cell \u001b[1;32mIn[43], line 10\u001b[0m\n\u001b[0;32m      8\u001b[0m \u001b[38;5;66;03m# Iterate through matches and innings\u001b[39;00m\n\u001b[0;32m      9\u001b[0m \u001b[38;5;28;01mfor\u001b[39;00m match \u001b[38;5;129;01min\u001b[39;00m matches:\n\u001b[1;32m---> 10\u001b[0m     \u001b[38;5;28;01mfor\u001b[39;00m inning \u001b[38;5;129;01min\u001b[39;00m \u001b[43mmatch\u001b[49m\u001b[43m[\u001b[49m\u001b[38;5;124;43m'\u001b[39;49m\u001b[38;5;124;43minnings\u001b[39;49m\u001b[38;5;124;43m'\u001b[39;49m\u001b[43m]\u001b[49m:\n\u001b[0;32m     11\u001b[0m         inning_name, inning_data \u001b[38;5;241m=\u001b[39m \u001b[38;5;28mlist\u001b[39m(inning\u001b[38;5;241m.\u001b[39mitems())[\u001b[38;5;241m0\u001b[39m]  \u001b[38;5;66;03m# Get inning name and data\u001b[39;00m\n\u001b[0;32m     12\u001b[0m         innings_numbers\u001b[38;5;241m.\u001b[39mappend(inning_name)\n",
      "\u001b[1;31mTypeError\u001b[0m: string indices must be integers"
     ]
    }
   ],
   "source": [
    "innings_numbers = []\n",
    "teams = []\n",
    "batsmen = []\n",
    "bowlers = []\n",
    "runs = []\n",
    "wickets = []\n",
    "\n",
    "# Iterate through matches and innings\n",
    "for match in matches:\n",
    "    for inning in match['innings']:\n",
    "        inning_name, inning_data = list(inning.items())[0]  # Get inning name and data\n",
    "        innings_numbers.append(inning_name)\n",
    "        teams.append(inning_data['team'])\n",
    "        for delivery in inning_data['deliveries']:\n",
    "            ball_number, ball_info = list(delivery.items())[0]  # Get ball number and info\n",
    "            batsmen.append(ball_info['batsman'])\n",
    "            bowlers.append(ball_info['bowler'])\n",
    "            runs.append(ball_info['runs']['total'])\n",
    "            if 'wicket' in ball_info:\n",
    "                wickets.append(ball_info['wicket']['kind'])\n",
    "            else:\n",
    "                wickets.append(None)  # No wicket in this delivery\n",
    "\n",
    "# Create a DataFrame with the extracted data\n",
    "import pandas as pd\n",
    "df = pd.DataFrame({\n",
    "    'Innings': innings_numbers,\n",
    "    'Team': teams,\n",
    "    'Batsman': batsmen,\n",
    "    'Bowler': bowlers,\n",
    "    'Runs': runs,\n",
    "    'Wicket': wickets\n",
    "})\n",
    "\n",
    "# Now 'df' contains separate columns for each relevant piece of information\n",
    "print(df)"
   ]
  },
  {
   "cell_type": "code",
   "execution_count": null,
   "id": "7505535a-56e7-4ed4-8ad1-14e8dd91717a",
   "metadata": {},
   "outputs": [],
   "source": []
  }
 ],
 "metadata": {
  "kernelspec": {
   "display_name": "Python 3 (ipykernel)",
   "language": "python",
   "name": "python3"
  },
  "language_info": {
   "codemirror_mode": {
    "name": "ipython",
    "version": 3
   },
   "file_extension": ".py",
   "mimetype": "text/x-python",
   "name": "python",
   "nbconvert_exporter": "python",
   "pygments_lexer": "ipython3",
   "version": "3.10.7"
  }
 },
 "nbformat": 4,
 "nbformat_minor": 5
}
